{
 "cells": [
  {
   "cell_type": "code",
   "execution_count": null,
   "metadata": {},
   "outputs": [],
   "source": [
    "sourceConnectionName = \"localdb\"  # Replace with the name of your historical database connection\n",
    "testQuery = \"SELECT 1\"\n",
    "\n",
    "try:\n",
    "    # Run a simple query to test the connection\n",
    "    system.db.runScalarQuery(testQuery, sourceConnectionName)\n",
    "    print \"Source DB connection to\", sourceConnectionName, \"is valid.\"\n",
    "except Exception:\n",
    "    print \"Failed to connect to Source DB:\", Exception"
   ]
  }
 ],
 "metadata": {
  "language_info": {
   "name": "python"
  }
 },
 "nbformat": 4,
 "nbformat_minor": 2
}
