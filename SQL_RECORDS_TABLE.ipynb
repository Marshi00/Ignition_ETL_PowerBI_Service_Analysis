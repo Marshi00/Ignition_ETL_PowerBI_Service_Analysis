{
 "cells": [
  {
   "cell_type": "code",
   "execution_count": null,
   "metadata": {},
   "outputs": [],
   "source": [
    "ALTER TABLE records ADD CONSTRAINT unique_tstamp_tag UNIQUE (T_stamp, tag_name);\n"
   ]
  }
 ],
 "metadata": {
  "language_info": {
   "name": "python"
  }
 },
 "nbformat": 4,
 "nbformat_minor": 2
}
