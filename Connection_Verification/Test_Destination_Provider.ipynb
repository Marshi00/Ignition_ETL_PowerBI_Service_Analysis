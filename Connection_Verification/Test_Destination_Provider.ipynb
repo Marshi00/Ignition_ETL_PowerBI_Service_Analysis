{
 "cells": [
  {
   "cell_type": "code",
   "execution_count": null,
   "metadata": {},
   "outputs": [],
   "source": [
    "import os\n",
    "from dotenv import load_dotenv\n",
    "\n",
    "# Load the environment variables from the .env file\n",
    "load_dotenv()\n",
    "\n",
    "# Fetch the environment variable\n",
    "DB_Destination_CONNECTION_NAME = os.getenv('DB_Destination_CONNECTION_NAME')\n",
    "\n",
    "DestinationConnectionName = DB_Destination_CONNECTION_NAME\n",
    "\n",
    "testQuery = \"SELECT 1\"\n",
    "\n",
    "try:\n",
    "    # Run a simple query to test the connection\n",
    "    system.db.runScalarQuery(testQuery, DestinationConnectionName)\n",
    "    print \"Source DB connection to\", DestinationConnectionName, \"is valid.\"\n",
    "except Exception:\n",
    "    print \"Failed to connect to Source DB:\", Exception"
   ]
  }
 ],
 "metadata": {
  "language_info": {
   "name": "python"
  }
 },
 "nbformat": 4,
 "nbformat_minor": 2
}
